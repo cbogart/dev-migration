{
 "cells": [
  {
   "cell_type": "code",
   "execution_count": 126,
   "metadata": {},
   "outputs": [],
   "source": [
    "import pandas as pd\n",
    "import numpy as np\n",
    "import scipy as sp\n",
    "import math\n",
    "import plotly.plotly as py\n",
    "import plotly\n",
    "import plotly.graph_objs as go\n",
    "from dateutil import parser\n",
    "import colorlover as cl\n",
    "\n"
   ]
  },
  {
   "cell_type": "code",
   "execution_count": 166,
   "metadata": {},
   "outputs": [
    {
     "name": "stderr",
     "output_type": "stream",
     "text": [
      "/usr/local/lib/python2.7/site-packages/IPython/core/interactiveshell.py:2714: DtypeWarning:\n",
      "\n",
      "Columns (2,6,7,8) have mixed types. Specify dtype option on import or set low_memory=False.\n",
      "\n"
     ]
    },
    {
     "name": "stdout",
     "output_type": "stream",
     "text": [
      "120052\n",
      "120032\n",
      "120032\n"
     ]
    },
    {
     "data": {
      "text/html": [
       "<div>\n",
       "<table border=\"1\" class=\"dataframe\">\n",
       "  <thead>\n",
       "    <tr style=\"text-align: right;\">\n",
       "      <th></th>\n",
       "      <th>author</th>\n",
       "      <th>sha</th>\n",
       "      <th>eco</th>\n",
       "      <th>study</th>\n",
       "      <th>project</th>\n",
       "      <th>when</th>\n",
       "      <th>ac_flag</th>\n",
       "      <th>pkg_change</th>\n",
       "      <th>differences</th>\n",
       "      <th>month</th>\n",
       "    </tr>\n",
       "  </thead>\n",
       "  <tbody>\n",
       "    <tr>\n",
       "      <th>0</th>\n",
       "      <td>Brendan Hickey &lt;bhickey@google.com&gt;</td>\n",
       "      <td>00485987f0610b12bc0783ac3a15b66e049d6bdb</td>\n",
       "      <td>NaN</td>\n",
       "      <td>0</td>\n",
       "      <td>crawl_crawl</td>\n",
       "      <td>2013-04-07 12:54:50-07:00</td>\n",
       "      <td>False</td>\n",
       "      <td>False</td>\n",
       "      <td>NaN</td>\n",
       "      <td>2013-04</td>\n",
       "    </tr>\n",
       "    <tr>\n",
       "      <th>1</th>\n",
       "      <td>Brendan Hickey &lt;bhickey@google.com&gt;</td>\n",
       "      <td>006e782bcba2a28d769fef1257d066eb36f67d7c</td>\n",
       "      <td>NaN</td>\n",
       "      <td>0</td>\n",
       "      <td>4Hooves2Appendages_crawl</td>\n",
       "      <td>2013-03-31 12:26:41-07:00</td>\n",
       "      <td>False</td>\n",
       "      <td>False</td>\n",
       "      <td>NaN</td>\n",
       "      <td>2013-03</td>\n",
       "    </tr>\n",
       "    <tr>\n",
       "      <th>2</th>\n",
       "      <td>Brendan Hickey &lt;bhickey@google.com&gt;</td>\n",
       "      <td>0081719e80ca6b8f481c62f92ea268b31cde6ca5</td>\n",
       "      <td>NaN</td>\n",
       "      <td>0</td>\n",
       "      <td>bhickey_skynet</td>\n",
       "      <td>2011-12-07 23:54:34-08:00</td>\n",
       "      <td>False</td>\n",
       "      <td>False</td>\n",
       "      <td>NaN</td>\n",
       "      <td>2011-12</td>\n",
       "    </tr>\n",
       "    <tr>\n",
       "      <th>3</th>\n",
       "      <td>Brendan Hickey &lt;bhickey@google.com&gt;</td>\n",
       "      <td>00a0082d11a61756c8aa6c2b0f87ef154777a295</td>\n",
       "      <td>NaN</td>\n",
       "      <td>0</td>\n",
       "      <td>4Hooves2Appendages_crawl</td>\n",
       "      <td>2013-03-28 22:56:50-07:00</td>\n",
       "      <td>True</td>\n",
       "      <td>False</td>\n",
       "      <td>NaN</td>\n",
       "      <td>2013-03</td>\n",
       "    </tr>\n",
       "    <tr>\n",
       "      <th>4</th>\n",
       "      <td>Brendan Hickey &lt;bhickey@google.com&gt;</td>\n",
       "      <td>00ac9bc19cb9dab331e902372e0f9798505d0d7b</td>\n",
       "      <td>NaN</td>\n",
       "      <td>0</td>\n",
       "      <td>4Hooves2Appendages_crawl</td>\n",
       "      <td>2013-06-08 14:46:40-07:00</td>\n",
       "      <td>True</td>\n",
       "      <td>False</td>\n",
       "      <td>NaN</td>\n",
       "      <td>2013-06</td>\n",
       "    </tr>\n",
       "  </tbody>\n",
       "</table>\n",
       "</div>"
      ],
      "text/plain": [
       "                                author  \\\n",
       "0  Brendan Hickey <bhickey@google.com>   \n",
       "1  Brendan Hickey <bhickey@google.com>   \n",
       "2  Brendan Hickey <bhickey@google.com>   \n",
       "3  Brendan Hickey <bhickey@google.com>   \n",
       "4  Brendan Hickey <bhickey@google.com>   \n",
       "\n",
       "                                        sha  eco  study  \\\n",
       "0  00485987f0610b12bc0783ac3a15b66e049d6bdb  NaN      0   \n",
       "1  006e782bcba2a28d769fef1257d066eb36f67d7c  NaN      0   \n",
       "2  0081719e80ca6b8f481c62f92ea268b31cde6ca5  NaN      0   \n",
       "3  00a0082d11a61756c8aa6c2b0f87ef154777a295  NaN      0   \n",
       "4  00ac9bc19cb9dab331e902372e0f9798505d0d7b  NaN      0   \n",
       "\n",
       "                    project                       when ac_flag pkg_change  \\\n",
       "0               crawl_crawl  2013-04-07 12:54:50-07:00   False      False   \n",
       "1  4Hooves2Appendages_crawl  2013-03-31 12:26:41-07:00   False      False   \n",
       "2            bhickey_skynet  2011-12-07 23:54:34-08:00   False      False   \n",
       "3  4Hooves2Appendages_crawl  2013-03-28 22:56:50-07:00    True      False   \n",
       "4  4Hooves2Appendages_crawl  2013-06-08 14:46:40-07:00    True      False   \n",
       "\n",
       "  differences    month  \n",
       "0         NaN  2013-04  \n",
       "1         NaN  2013-03  \n",
       "2         NaN  2011-12  \n",
       "3         NaN  2013-03  \n",
       "4         NaN  2013-06  "
      ]
     },
     "execution_count": 166,
     "metadata": {},
     "output_type": "execute_result"
    }
   ],
   "source": [
    "df = pd.read_csv(\"../data/notebook/brendan_hickey.csv\")\n",
    "\n",
    "#author,sha,eco,project,when,ac_flag,pkg_change\n",
    "#Jack Moffitt <jack@cactus.local>,1014e4ddb347967c3a24e2ef3df0b10175546520,NPM,2k13yr_strophejs,2012-04-18 08:28:31-07:00,False,True\n",
    "\n",
    "print len(df)\n",
    "df = df[pd.notnull(df.when)]\n",
    "print len(df)\n",
    "focal_author = df.iloc[0].author\n",
    "df['month'] = df.apply(lambda row: str(row[\"when\"])[0:7], axis=1)\n",
    "#df = df[df.author==focal_author]\n",
    "print len(df.author==focal_author)\n",
    "df.head()"
   ]
  },
  {
   "cell_type": "code",
   "execution_count": 168,
   "metadata": {},
   "outputs": [
    {
     "ename": "KeyError",
     "evalue": "nan",
     "output_type": "error",
     "traceback": [
      "\u001b[0;31m---------------------------------------------------------------------------\u001b[0m",
      "\u001b[0;31mKeyError\u001b[0m                                  Traceback (most recent call last)",
      "\u001b[0;32m<ipython-input-168-fdfe14e430e6>\u001b[0m in \u001b[0;36m<module>\u001b[0;34m()\u001b[0m\n\u001b[1;32m     13\u001b[0m                        \u001b[0msymbol\u001b[0m \u001b[0;34m=\u001b[0m \u001b[0mdf\u001b[0m\u001b[0;34m.\u001b[0m\u001b[0mpkg_change\u001b[0m\u001b[0;34m,\u001b[0m\u001b[0;34m\u001b[0m\u001b[0m\n\u001b[1;32m     14\u001b[0m \u001b[0;34m\u001b[0m\u001b[0m\n\u001b[0;32m---> 15\u001b[0;31m                        color=[colorscale[eco_index[e]] for e in df.eco]),\n\u001b[0m\u001b[1;32m     16\u001b[0m                    \u001b[0mtext\u001b[0m \u001b[0;34m=\u001b[0m \u001b[0;34m[\u001b[0m\u001b[0mstr\u001b[0m\u001b[0;34m(\u001b[0m\u001b[0me\u001b[0m\u001b[0;34m)\u001b[0m \u001b[0;32mfor\u001b[0m \u001b[0me\u001b[0m \u001b[0;32min\u001b[0m \u001b[0mdf\u001b[0m\u001b[0;34m.\u001b[0m\u001b[0meco\u001b[0m\u001b[0;34m]\u001b[0m\u001b[0;34m,\u001b[0m\u001b[0;34m\u001b[0m\u001b[0m\n\u001b[1;32m     17\u001b[0m                    \u001b[0mshowlegend\u001b[0m \u001b[0;34m=\u001b[0m \u001b[0mTrue\u001b[0m\u001b[0;34m,\u001b[0m\u001b[0;34m\u001b[0m\u001b[0m\n",
      "\u001b[0;31mKeyError\u001b[0m: nan"
     ]
    }
   ],
   "source": [
    "def unique2index(items):\n",
    "    ix = {}\n",
    "    for i in items: ix[i] = len(ix)\n",
    "    return ix\n",
    "eco_index = unique2index(df.eco.unique())\n",
    "pkg_index = unique2index(df.sort_values(\"eco\").project.unique())\n",
    "\n",
    "colorscale = cl.scales[str(len(eco_index))]['div']['RdYlBu']\n",
    "trace = go.Scatter(y = [pkg_index[p] for p in df.project], \n",
    "                   x = [parser.parse(t) for t in df.when], \n",
    "                   marker=go.Marker(\n",
    "                       line=go.Line(color='black',width=1),\n",
    "                       symbol = df.pkg_change,\n",
    "                       \n",
    "                       color=[colorscale[eco_index[e]] for e in df.eco]),\n",
    "                   text = [str(e) for e in df.eco],\n",
    "                   showlegend = True,\n",
    "                   mode=\"markers\")\n",
    "layoutt = dict(yaxis=dict(tickvals = range(len(pkg_index)), ticktext = pkg_index.keys(), showticklabels=True))"
   ]
  },
  {
   "cell_type": "code",
   "execution_count": null,
   "metadata": {},
   "outputs": [],
   "source": [
    "#plotly.offline.plot(go.Figure(data=[trace], layout=layoutt), auto_open=False)"
   ]
  },
  {
   "cell_type": "code",
   "execution_count": 76,
   "metadata": {},
   "outputs": [],
   "source": [
    "for t in df.when:\n",
    "    try:\n",
    "        x = parser.parse(t)\n",
    "    except Exception, e:\n",
    "        print e, type(e), t, type(t)"
   ]
  },
  {
   "cell_type": "code",
   "execution_count": 84,
   "metadata": {},
   "outputs": [
    {
     "data": {
      "text/plain": [
       "['rgb(252,141,89)', 'rgb(255,255,191)', 'rgb(145,191,219)']"
      ]
     },
     "execution_count": 84,
     "metadata": {},
     "output_type": "execute_result"
    }
   ],
   "source": [
    "cl.scales['3']['div']['RdYlBu']"
   ]
  },
  {
   "cell_type": "code",
   "execution_count": 102,
   "metadata": {},
   "outputs": [
    {
     "data": {
      "text/plain": [
       "['NPM',\n",
       " 'nan',\n",
       " 'nan',\n",
       " 'NPM',\n",
       " 'NPM',\n",
       " 'NPM',\n",
       " 'nan',\n",
       " 'nan',\n",
       " 'nan',\n",
       " 'nan',\n",
       " 'nan',\n",
       " 'nan',\n",
       " 'nan',\n",
       " 'NPM',\n",
       " 'nan',\n",
       " 'nan',\n",
       " 'nan',\n",
       " 'NPM',\n",
       " 'nan',\n",
       " 'NPM',\n",
       " 'nan',\n",
       " 'NPM',\n",
       " 'NPM',\n",
       " 'NPM',\n",
       " 'nan',\n",
       " 'Cargo',\n",
       " 'nan',\n",
       " 'Cargo',\n",
       " 'nan',\n",
       " 'nan',\n",
       " 'Cargo',\n",
       " 'Cargo',\n",
       " 'Cargo',\n",
       " 'Cargo',\n",
       " 'Cargo',\n",
       " 'Cargo',\n",
       " 'Cargo',\n",
       " 'Cargo',\n",
       " 'nan',\n",
       " 'nan',\n",
       " 'nan',\n",
       " 'Cargo',\n",
       " 'Cargo',\n",
       " 'Cargo',\n",
       " 'nan',\n",
       " 'Cargo',\n",
       " 'nan',\n",
       " 'nan',\n",
       " 'Cargo',\n",
       " 'Cargo',\n",
       " 'Cargo',\n",
       " 'Cargo',\n",
       " 'Cargo',\n",
       " 'nan',\n",
       " 'Cargo',\n",
       " 'nan',\n",
       " 'Cargo',\n",
       " 'nan',\n",
       " 'nan',\n",
       " 'Cargo',\n",
       " 'Cargo',\n",
       " 'nan',\n",
       " 'Cargo',\n",
       " 'nan',\n",
       " 'Cargo',\n",
       " 'nan',\n",
       " 'Cargo',\n",
       " 'Cargo',\n",
       " 'nan',\n",
       " 'nan',\n",
       " 'nan',\n",
       " 'Cargo',\n",
       " 'nan',\n",
       " 'nan',\n",
       " 'Cargo',\n",
       " 'Cargo',\n",
       " 'Cargo',\n",
       " 'NPM',\n",
       " 'Cargo',\n",
       " 'nan',\n",
       " 'nan',\n",
       " 'nan',\n",
       " 'nan',\n",
       " 'nan',\n",
       " 'nan',\n",
       " 'Cargo',\n",
       " 'Cargo',\n",
       " 'Cargo',\n",
       " 'NPM',\n",
       " 'nan',\n",
       " 'nan',\n",
       " 'NPM',\n",
       " 'NPM',\n",
       " 'nan',\n",
       " 'nan',\n",
       " 'nan',\n",
       " 'nan',\n",
       " 'Cargo',\n",
       " 'nan',\n",
       " 'nan']"
      ]
     },
     "execution_count": 102,
     "metadata": {},
     "output_type": "execute_result"
    }
   ],
   "source": [
    "The new graph would go like this:\n",
    "    * treat the first commit's author as the focal author\n",
    "    * touches per month by category (ecosystem, study status, focal/nonfocal author) divided by category package count\n",
    "    * graph that shit"
   ]
  },
  {
   "cell_type": "code",
   "execution_count": 170,
   "metadata": {},
   "outputs": [
    {
     "data": {
      "text/html": [
       "<div>\n",
       "<table border=\"1\" class=\"dataframe\">\n",
       "  <thead>\n",
       "    <tr style=\"text-align: right;\">\n",
       "      <th></th>\n",
       "      <th>author</th>\n",
       "      <th>sha</th>\n",
       "      <th>eco</th>\n",
       "      <th>study</th>\n",
       "      <th>project</th>\n",
       "      <th>when</th>\n",
       "      <th>ac_flag</th>\n",
       "      <th>pkg_change</th>\n",
       "      <th>differences</th>\n",
       "      <th>month</th>\n",
       "    </tr>\n",
       "  </thead>\n",
       "  <tbody>\n",
       "    <tr>\n",
       "      <th>0</th>\n",
       "      <td>Brendan Hickey &lt;bhickey@google.com&gt;</td>\n",
       "      <td>00485987f0610b12bc0783ac3a15b66e049d6bdb</td>\n",
       "      <td>NaN</td>\n",
       "      <td>0</td>\n",
       "      <td>crawl_crawl</td>\n",
       "      <td>2013-04-07 12:54:50-07:00</td>\n",
       "      <td>False</td>\n",
       "      <td>False</td>\n",
       "      <td>NaN</td>\n",
       "      <td>2013-04</td>\n",
       "    </tr>\n",
       "    <tr>\n",
       "      <th>1</th>\n",
       "      <td>Brendan Hickey &lt;bhickey@google.com&gt;</td>\n",
       "      <td>006e782bcba2a28d769fef1257d066eb36f67d7c</td>\n",
       "      <td>NaN</td>\n",
       "      <td>0</td>\n",
       "      <td>4Hooves2Appendages_crawl</td>\n",
       "      <td>2013-03-31 12:26:41-07:00</td>\n",
       "      <td>False</td>\n",
       "      <td>False</td>\n",
       "      <td>NaN</td>\n",
       "      <td>2013-03</td>\n",
       "    </tr>\n",
       "    <tr>\n",
       "      <th>2</th>\n",
       "      <td>Brendan Hickey &lt;bhickey@google.com&gt;</td>\n",
       "      <td>0081719e80ca6b8f481c62f92ea268b31cde6ca5</td>\n",
       "      <td>NaN</td>\n",
       "      <td>0</td>\n",
       "      <td>bhickey_skynet</td>\n",
       "      <td>2011-12-07 23:54:34-08:00</td>\n",
       "      <td>False</td>\n",
       "      <td>False</td>\n",
       "      <td>NaN</td>\n",
       "      <td>2011-12</td>\n",
       "    </tr>\n",
       "    <tr>\n",
       "      <th>3</th>\n",
       "      <td>Brendan Hickey &lt;bhickey@google.com&gt;</td>\n",
       "      <td>00a0082d11a61756c8aa6c2b0f87ef154777a295</td>\n",
       "      <td>NaN</td>\n",
       "      <td>0</td>\n",
       "      <td>4Hooves2Appendages_crawl</td>\n",
       "      <td>2013-03-28 22:56:50-07:00</td>\n",
       "      <td>True</td>\n",
       "      <td>False</td>\n",
       "      <td>NaN</td>\n",
       "      <td>2013-03</td>\n",
       "    </tr>\n",
       "    <tr>\n",
       "      <th>4</th>\n",
       "      <td>Brendan Hickey &lt;bhickey@google.com&gt;</td>\n",
       "      <td>00ac9bc19cb9dab331e902372e0f9798505d0d7b</td>\n",
       "      <td>NaN</td>\n",
       "      <td>0</td>\n",
       "      <td>4Hooves2Appendages_crawl</td>\n",
       "      <td>2013-06-08 14:46:40-07:00</td>\n",
       "      <td>True</td>\n",
       "      <td>False</td>\n",
       "      <td>NaN</td>\n",
       "      <td>2013-06</td>\n",
       "    </tr>\n",
       "  </tbody>\n",
       "</table>\n",
       "</div>"
      ],
      "text/plain": [
       "                                author  \\\n",
       "0  Brendan Hickey <bhickey@google.com>   \n",
       "1  Brendan Hickey <bhickey@google.com>   \n",
       "2  Brendan Hickey <bhickey@google.com>   \n",
       "3  Brendan Hickey <bhickey@google.com>   \n",
       "4  Brendan Hickey <bhickey@google.com>   \n",
       "\n",
       "                                        sha  eco  study  \\\n",
       "0  00485987f0610b12bc0783ac3a15b66e049d6bdb  NaN      0   \n",
       "1  006e782bcba2a28d769fef1257d066eb36f67d7c  NaN      0   \n",
       "2  0081719e80ca6b8f481c62f92ea268b31cde6ca5  NaN      0   \n",
       "3  00a0082d11a61756c8aa6c2b0f87ef154777a295  NaN      0   \n",
       "4  00ac9bc19cb9dab331e902372e0f9798505d0d7b  NaN      0   \n",
       "\n",
       "                    project                       when ac_flag pkg_change  \\\n",
       "0               crawl_crawl  2013-04-07 12:54:50-07:00   False      False   \n",
       "1  4Hooves2Appendages_crawl  2013-03-31 12:26:41-07:00   False      False   \n",
       "2            bhickey_skynet  2011-12-07 23:54:34-08:00   False      False   \n",
       "3  4Hooves2Appendages_crawl  2013-03-28 22:56:50-07:00    True      False   \n",
       "4  4Hooves2Appendages_crawl  2013-06-08 14:46:40-07:00    True      False   \n",
       "\n",
       "  differences    month  \n",
       "0         NaN  2013-04  \n",
       "1         NaN  2013-03  \n",
       "2         NaN  2011-12  \n",
       "3         NaN  2013-03  \n",
       "4         NaN  2013-06  "
      ]
     },
     "execution_count": 170,
     "metadata": {},
     "output_type": "execute_result"
    }
   ],
   "source": [
    "df.head()"
   ]
  },
  {
   "cell_type": "code",
   "execution_count": 171,
   "metadata": {},
   "outputs": [],
   "source": [
    "# each month, \n",
    "#   commits per ECOSYSTEM by focal author\n",
    "#   commits per ECOSYTEM by anyone\n",
    "#   pkg_change commits by focal author and ecosystem\n",
    "#   pkg_change commits by anyone per ecosystem\n",
    "cef = df[df.author==focal_author].groupby([\"eco\",\"month\"]).count()\n",
    "cea = df.groupby([\"eco\",\"month\"]).count()\n",
    "pef = df[df.author==focal_author][df.pkg_change==True].groupby([\"eco\",\"month\"]).count()\n",
    "pea = df[df.pkg_change==True].groupby([\"eco\",\"month\"]).count()"
   ]
  },
  {
   "cell_type": "code",
   "execution_count": 172,
   "metadata": {},
   "outputs": [
    {
     "data": {
      "text/plain": [
       "<matplotlib.axes._subplots.AxesSubplot at 0x11c099950>"
      ]
     },
     "execution_count": 172,
     "metadata": {},
     "output_type": "execute_result"
    },
    {
     "data": {
      "image/png": "[encoded data removed]",
      "text/plain": [
       "<Figure size 432x288 with 1 Axes>"
      ]
     },
     "metadata": {},
     "output_type": "display_data"
    },
    {
     "data": {
      "image/png": "[encoded data removed]",
      "text/plain": [
       "<Figure size 432x288 with 1 Axes>"
      ]
     },
     "metadata": {},
     "output_type": "display_data"
    },
    {
     "data": {
      "image/png": "[encoded data removed]",
      "text/plain": [
       "<Figure size 432x288 with 1 Axes>"
      ]
     },
     "metadata": {},
     "output_type": "display_data"
    },
    {
     "data": {
      "image/png": "[encoded data removed]",
      "text/plain": [
       "<Figure size 432x288 with 1 Axes>"
      ]
     },
     "metadata": {},
     "output_type": "display_data"
    }
   ],
   "source": [
    "%matplotlib inline\n",
    "cef.sha.unstack(level=0).plot()\n",
    "cea.sha.unstack(level=0).plot()\n",
    "pef.sha.unstack(level=0).plot()\n",
    "pea.sha.unstack(level=0).plot()"
   ]
  },
  {
   "cell_type": "code",
   "execution_count": 174,
   "metadata": {},
   "outputs": [
    {
     "data": {
      "text/html": [
       "<div>\n",
       "<table border=\"1\" class=\"dataframe\">\n",
       "  <thead>\n",
       "    <tr style=\"text-align: right;\">\n",
       "      <th></th>\n",
       "      <th>author</th>\n",
       "      <th>sha</th>\n",
       "      <th>eco</th>\n",
       "      <th>study</th>\n",
       "      <th>project</th>\n",
       "      <th>when</th>\n",
       "      <th>ac_flag</th>\n",
       "      <th>pkg_change</th>\n",
       "      <th>differences</th>\n",
       "      <th>month</th>\n",
       "    </tr>\n",
       "  </thead>\n",
       "  <tbody>\n",
       "    <tr>\n",
       "      <th>1196</th>\n",
       "      <td>Brendan Hickey &lt;bhickey@google.com&gt;</td>\n",
       "      <td>a08b38d36c4f2f8c6a3c70fdae84dd388c535c47</td>\n",
       "      <td>Maven</td>\n",
       "      <td>0</td>\n",
       "      <td>bhickey_doppelsprecher</td>\n",
       "      <td>2013-06-26 00:09:26-07:00</td>\n",
       "      <td>False</td>\n",
       "      <td>True</td>\n",
       "      <td>set(['    \\t&lt;groupId&gt;com.google.code.gson&lt;/gro...</td>\n",
       "      <td>2013-06</td>\n",
       "    </tr>\n",
       "    <tr>\n",
       "      <th>1410</th>\n",
       "      <td>Brendan Hickey &lt;bhickey@google.com&gt;</td>\n",
       "      <td>bd03e353d1696c10b290865da7e92df9727acfdd</td>\n",
       "      <td>Maven</td>\n",
       "      <td>0</td>\n",
       "      <td>bhickey_doppelsprecher</td>\n",
       "      <td>2013-06-25 23:35:54-07:00</td>\n",
       "      <td>False</td>\n",
       "      <td>True</td>\n",
       "      <td>?</td>\n",
       "      <td>2013-06</td>\n",
       "    </tr>\n",
       "    <tr>\n",
       "      <th>1433</th>\n",
       "      <td>Brendan Hickey &lt;bhickey@google.com&gt;</td>\n",
       "      <td>c0c2dbe6e5252b8802417971fa20d853939704a4</td>\n",
       "      <td>Cargo</td>\n",
       "      <td>1</td>\n",
       "      <td>bhickey_fence</td>\n",
       "      <td>2016-09-17 11:14:29-04:00</td>\n",
       "      <td>True</td>\n",
       "      <td>True</td>\n",
       "      <td>?</td>\n",
       "      <td>2016-09</td>\n",
       "    </tr>\n",
       "    <tr>\n",
       "      <th>1551</th>\n",
       "      <td>Brendan Hickey &lt;bhickey@google.com&gt;</td>\n",
       "      <td>cf75d35e1f31ad5d92a04ad08a16b7e27efe96f9</td>\n",
       "      <td>Cargo</td>\n",
       "      <td>0</td>\n",
       "      <td>bhickey_binomial.rs</td>\n",
       "      <td>2015-07-26 19:28:29-04:00</td>\n",
       "      <td>True</td>\n",
       "      <td>True</td>\n",
       "      <td>?</td>\n",
       "      <td>2015-07</td>\n",
       "    </tr>\n",
       "  </tbody>\n",
       "</table>\n",
       "</div>"
      ],
      "text/plain": [
       "                                   author  \\\n",
       "1196  Brendan Hickey <bhickey@google.com>   \n",
       "1410  Brendan Hickey <bhickey@google.com>   \n",
       "1433  Brendan Hickey <bhickey@google.com>   \n",
       "1551  Brendan Hickey <bhickey@google.com>   \n",
       "\n",
       "                                           sha    eco  study  \\\n",
       "1196  a08b38d36c4f2f8c6a3c70fdae84dd388c535c47  Maven      0   \n",
       "1410  bd03e353d1696c10b290865da7e92df9727acfdd  Maven      0   \n",
       "1433  c0c2dbe6e5252b8802417971fa20d853939704a4  Cargo      1   \n",
       "1551  cf75d35e1f31ad5d92a04ad08a16b7e27efe96f9  Cargo      0   \n",
       "\n",
       "                     project                       when ac_flag pkg_change  \\\n",
       "1196  bhickey_doppelsprecher  2013-06-26 00:09:26-07:00   False       True   \n",
       "1410  bhickey_doppelsprecher  2013-06-25 23:35:54-07:00   False       True   \n",
       "1433           bhickey_fence  2016-09-17 11:14:29-04:00    True       True   \n",
       "1551     bhickey_binomial.rs  2015-07-26 19:28:29-04:00    True       True   \n",
       "\n",
       "                                            differences    month  \n",
       "1196  set(['    \\t<groupId>com.google.code.gson</gro...  2013-06  \n",
       "1410                                                  ?  2013-06  \n",
       "1433                                                  ?  2016-09  \n",
       "1551                                                  ?  2015-07  "
      ]
     },
     "execution_count": 174,
     "metadata": {},
     "output_type": "execute_result"
    }
   ],
   "source": [
    "\n",
    "df[df.pkg_change==True]"
   ]
  },
  {
   "cell_type": "code",
   "execution_count": null,
   "metadata": {},
   "outputs": [],
   "source": []
  }
 ],
 "metadata": {
  "kernelspec": {
   "display_name": "Python 2",
   "language": "python",
   "name": "python2"
  },
  "language_info": {
   "codemirror_mode": {
    "name": "ipython",
    "version": 2
   },
   "file_extension": ".py",
   "mimetype": "text/x-python",
   "name": "python",
   "nbconvert_exporter": "python",
   "pygments_lexer": "ipython2",
   "version": "2.7.15"
  }
 },
 "nbformat": 4,
 "nbformat_minor": 2
}
