{
 "cells": [
  {
   "cell_type": "code",
   "execution_count": 1,
   "metadata": {},
   "outputs": [],
   "source": [
    "# imports\n"
   ]
  },
  {
   "cell_type": "code",
   "execution_count": 2,
   "metadata": {},
   "outputs": [],
   "source": [
    "# Load data\n",
    "\n",
    "\n",
    "# I. Ecosystem Influence table\n",
    "#   from_eco, to_eco, year, influence, scaled_influence\n",
    "eco_influence = [] \n",
    "\n",
    "# II. Package influence table\n",
    "#   from_eco, year, in_eco, package, repo, influence, scaled_influence, influence_high\n",
    "package_influence = []\n",
    "\n",
    "# III. Ecosystem practice table\n",
    "#   eco, year, vstyle1..N, dstyle1..N, ver_update_major, ver_update_minor, ver_update_patch, ver_update_supermajor,\n",
    "#        ver_update_backport, release_frequency, dep_update_frequency, dep_count, new_dep_count, mean_deps_updated,\n",
    "#        mean_proportion_deps_updated\n",
    "ecosystem_practices = []\n",
    "\n",
    "# IV. Package Practices \n",
    "#     eco, package, year, vstyle1..N, dstyle1..N, ver_update_major, ver_update_minor, ver_update_patch, ver_update_supermajor,\n",
    "#        ver_update_backport, release_frequency, dep_update_frequency, dep_count, new_dep_count, mean_deps_updated,\n",
    "#        mean_proportion_deps_updated\n",
    "#     +_by_commit_size suffix for versions&dependencies,\n",
    "package_practices = []\n",
    "\n",
    "# IVa. Package covariates\n",
    "#     eco, package, year, reverse_dependencies, age, developers, commits, owners_experience, average_experience\n",
    "package_covariates = []\n",
    "\n",
    "# V. Author Influence \n",
    "#     author, year, from_eco, to_eco, influence, scaled_influence\n",
    "author_influence = []\n",
    "\n",
    "# Va. Author practices \n",
    "#     author, year, month, eco, vstyle1..N, dstyle1..N, ver_update_major, ver_update_minor, ver_update_patch, ver_update_supermajor,\n",
    "#        ver_update_backport, release_frequency, dep_update_frequency, dep_count, new_dep_count, mean_deps_updated,\n",
    "#        mean_proportion_deps_updated\n",
    "author_practices = []\n",
    "\n",
    "# Vb. Author Covariates \n",
    "#    author, year, from_eco, to_eco, from_commits, to_commits, from_package_count, to_package_count,\n",
    "#    NB: the \"to\" fields here match the year; the \"from\" fields sum the previous 3 years\n",
    "author_covariates = []"
   ]
  },
  {
   "cell_type": "code",
   "execution_count": 3,
   "metadata": {},
   "outputs": [],
   "source": [
    "# Analysis 1: Overall flow of people   ECO_INFLUENCE\n",
    "\n",
    "# Calculate highest flow in for each ecosystem/year\n",
    "# Distribution of flows overall\n",
    "# Map for a few highlighted years\n",
    "# Describe and comment"
   ]
  },
  {
   "cell_type": "code",
   "execution_count": 4,
   "metadata": {},
   "outputs": [],
   "source": [
    "# Analysis 2: Practice contrasts   ECO_PRAX, PACKAGE_PRAX\n",
    "\n",
    "# Ecosystem-level distributions of practice in some year(s)\n",
    "# Ecosystem-level trends of practice\n",
    "# Highlight interesting outliers\n",
    "\n",
    "# Identify focal cases -- practice contrasts, changing, in which there's human flow "
   ]
  },
  {
   "cell_type": "code",
   "execution_count": null,
   "metadata": {},
   "outputs": [],
   "source": [
    "# Analysis 3:   PACKAGE_PRAX, ECO_PRAX, PACKAGE_INFLUENCE, PACKAGE_COVARIATES\n",
    "\n",
    "# RQ: are high-influence packages influenced by the source ecosystem?\n",
    "# Package-level model, within a year:\n",
    "#   prax ~ to_eco_mean * to_eco_infl + eco1_mean * eco1_infl + eco2_mean*eco2_infl + ... + age + devs + commits + owners_experience\n",
    "# The particular ecosystems are random effects EXCEPT to_eco_mean\n"
   ]
  }
 ],
 "metadata": {
  "kernelspec": {
   "display_name": "Python 3",
   "language": "python",
   "name": "python3"
  },
  "language_info": {
   "codemirror_mode": {
    "name": "ipython",
    "version": 3
   },
   "file_extension": ".py",
   "mimetype": "text/x-python",
   "name": "python",
   "nbconvert_exporter": "python",
   "pygments_lexer": "ipython3",
   "version": "3.7.0"
  }
 },
 "nbformat": 4,
 "nbformat_minor": 2
}
