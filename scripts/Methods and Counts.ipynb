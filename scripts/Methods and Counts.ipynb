{
 "cells": [
  {
   "cell_type": "markdown",
   "metadata": {},
   "source": [
    "# Setup stuff"
   ]
  },
  {
   "cell_type": "code",
   "execution_count": 104,
   "metadata": {},
   "outputs": [],
   "source": [
    "from fabric import Connection\n",
    "import subprocess\n",
    "from dateutil.parser import parse\n",
    "import datetime\n",
    "from collections import defaultdict\n",
    "import csv\n",
    "import pandas as pd\n",
    "\n",
    "\n",
    "class RemoteFile(object):\n",
    "    def __init__(self, machine, path):\n",
    "        self.machine = machine\n",
    "        self.path = path\n",
    "        \n",
    "    def age(self): \n",
    "        r = self.machine.run(\"stat -c '%y' \" + self.path, hide=True )\n",
    "        return(parse(r.stdout.strip()))\n",
    "    def checksum(self):\n",
    "        r = self.machine.run(\"sum \" + self.path, hide=True )\n",
    "        return(r.stdout.split(\" \")[0].strip())\n",
    "    \n",
    "    \n",
    "\n",
    "class LocalFile(object):\n",
    "    def __init__(self, path):\n",
    "        self.path = path\n",
    "        \n",
    "    def age(self): \n",
    "        r = subprocess.check_output(['stat', '-f', '%m', self.path])\n",
    "        return(datetime.datetime.utcfromtimestamp(int(r)))\n",
    "    def checksum(self):\n",
    "        r = subprocess.run(['sum', self.path], capture_output=True)\n",
    "        return(r.stdout.decode().split(\" \")[0].strip())\n",
    "    def countdistinct(self, column):\n",
    "        try:\n",
    "            values = defaultdict(int)\n",
    "            for row in csv.DictReader(open(self.path)):\n",
    "                values[row[column]] += 1\n",
    "            return values\n",
    "        except KeyError as ve:\n",
    "            print(column, \"not found in\", self.path,\":\",\";\".join(row.keys()))\n",
    "    def dictreader(self):\n",
    "        return csv.DictReader(open(self.path))\n",
    "    def df(self, indexes):\n",
    "        df = pd.read_csv(self.path,skipinitialspace=True)\n",
    "        df.set_index(indexes,inplace=True)#, drop=True, inplace=True)\n",
    "        return df\n",
    "   \n",
    "erebor = Connection(\"cbogart@erebor.lti.cs.cmu.edu\")\n",
    "oscar = Connection(\"cbogart@da4.eecs.utk.edu:443\")\n"
   ]
  },
  {
   "cell_type": "markdown",
   "metadata": {},
   "source": [
    "# Canonical list of packages to study"
   ]
  },
  {
   "cell_type": "code",
   "execution_count": 110,
   "metadata": {},
   "outputs": [
    {
     "name": "stdout",
     "output_type": "stream",
     "text": [
      "Original repo list:  2018-03-27 13:59:14.675785-04:00\n",
      "Local repo list:  2018-07-11 21:37:30 Checksum:  True\n",
      "Original repo map:  2018-07-22 16:58:24.926131-04:00\n",
      "Local repo map:  2018-07-12 16:27:52 Checksum:  False\n"
     ]
    }
   ],
   "source": [
    "original_repo_list = RemoteFile(oscar,\"/home/cbogart/dev-migration/data/common/gh-repos.txt\")\n",
    "local_orig_repo_list = LocalFile(\"/Users/bogart-MBP-isri/Dropbox/research/dev-migration/data/common/gh-repos.txt\")\n",
    "original_repo_map = RemoteFile(erebor,\"/usr2/scratch/cbogart/dev-migration/data/mapping.csv\")\n",
    "local_orig_repo_map = LocalFile(\"/Users/bogart-MBP-isri/Dropbox/research/dev-migration/data/common/pkg-repo-map.csv\")\n",
    "print(\"Original repo list: \", original_repo_list.age())\n",
    "print(\"Local repo list: \", local_orig_repo_list.age(), \"Checksum: \", original_repo_list.checksum() == local_orig_repo_list.checksum())\n",
    "print(\"Original repo map: \", original_repo_map.age())\n",
    "print(\"Local repo map: \", local_orig_repo_map.age(), \"Checksum: \", original_repo_map.checksum() == local_orig_repo_map.checksum())\n",
    "\n",
    "#host,repo,ecosystem,packageID,packageName\n",
    "repos_per_ecosystem  = defaultdict(dict)\n",
    "multi_package_repos = defaultdict(set)\n",
    "for row in local_orig_repo_map.dictreader():\n",
    "    if row[\"repo\"] in repos_per_ecosystem[row[\"ecosystem\"]]:\n",
    "        multi_package_repos[row[\"ecosystem\"]].add(row[\"repo\"])\n",
    "        del repos_per_ecosystem[row[\"ecosystem\"]][row[\"repo\"]]\n",
    "    else:\n",
    "        repos_per_ecosystem[row[\"ecosystem\"]][row[\"repo\"]] = row[\"packageID\"]\n",
    "    "
   ]
  },
  {
   "cell_type": "code",
   "execution_count": 115,
   "metadata": {},
   "outputs": [
    {
     "name": "stdout",
     "output_type": "stream",
     "text": [
      "Ecosystem Atom :\n",
      "    Oscar found repos, local match= True\n",
      "    Libraries.io has  10163 unique repos, and 224 repos with multiple packages\n",
      "    OSCAR found  8965 repos\n",
      "    The overlap is 8788\n",
      "Ecosystem Bioconductor :\n",
      "    Oscar found repos, local match= True\n",
      "    Libraries.io has  0 unique repos, and 0 repos with multiple packages\n",
      "    OSCAR found  1475 repos\n",
      "    The overlap is 0\n",
      "Ecosystem Cargo :\n",
      "    Oscar found repos, local match= False\n",
      "    Libraries.io has  9274 unique repos, and 841 repos with multiple packages\n",
      "    OSCAR found  8722 repos\n",
      "    The overlap is 8118\n",
      "Ecosystem CocoaPods :\n",
      "    Oscar found repos, local match= True\n",
      "    Libraries.io has  37737 unique repos, and 739 repos with multiple packages\n",
      "    OSCAR found  32312 repos\n",
      "    The overlap is 31756\n",
      "Ecosystem CPAN :\n"
     ]
    },
    {
     "ename": "UnexpectedExit",
     "evalue": "Encountered a bad command exit code!\n\nCommand: 'sum /data/play/cbogart/foundpackages.CPAN.csv'\n\nExit code: 1\n\nStdout:\n\n\n\nStderr:\n\nsum: /data/play/cbogart/foundpackages.CPAN.csv: No such file or directory\n\n",
     "output_type": "error",
     "traceback": [
      "\u001b[0;31m---------------------------------------------------------------------------\u001b[0m",
      "\u001b[0;31mUnexpectedExit\u001b[0m                            Traceback (most recent call last)",
      "\u001b[0;32m<ipython-input-115-1332cfb52ef1>\u001b[0m in \u001b[0;36m<module>\u001b[0;34m()\u001b[0m\n\u001b[1;32m      7\u001b[0m     \u001b[0moscar_found_repos\u001b[0m \u001b[0;34m=\u001b[0m \u001b[0mRemoteFile\u001b[0m\u001b[0;34m(\u001b[0m\u001b[0moscar\u001b[0m\u001b[0;34m,\u001b[0m\u001b[0;34m\"/data/play/cbogart/foundpackages.\"\u001b[0m \u001b[0;34m+\u001b[0m \u001b[0me\u001b[0m \u001b[0;34m+\u001b[0m \u001b[0;34m\".csv\"\u001b[0m\u001b[0;34m)\u001b[0m\u001b[0;34m\u001b[0m\u001b[0m\n\u001b[1;32m      8\u001b[0m     \u001b[0mlocal_oscar_found_repos\u001b[0m \u001b[0;34m=\u001b[0m \u001b[0mLocalFile\u001b[0m\u001b[0;34m(\u001b[0m\u001b[0;34m\"/Users/bogart-MBP-isri/Dropbox/research/dev-migration/data/common/foundpackages.\"\u001b[0m \u001b[0;34m+\u001b[0m \u001b[0me\u001b[0m \u001b[0;34m+\u001b[0m \u001b[0;34m\".csv\"\u001b[0m\u001b[0;34m)\u001b[0m\u001b[0;34m\u001b[0m\u001b[0m\n\u001b[0;32m----> 9\u001b[0;31m     \u001b[0mprint\u001b[0m\u001b[0;34m(\u001b[0m\u001b[0;34m\"    Oscar found repos, local match=\"\u001b[0m\u001b[0;34m,\u001b[0m \u001b[0moscar_found_repos\u001b[0m\u001b[0;34m.\u001b[0m\u001b[0mchecksum\u001b[0m\u001b[0;34m(\u001b[0m\u001b[0;34m)\u001b[0m \u001b[0;34m==\u001b[0m \u001b[0mlocal_oscar_found_repos\u001b[0m\u001b[0;34m.\u001b[0m\u001b[0mchecksum\u001b[0m\u001b[0;34m(\u001b[0m\u001b[0;34m)\u001b[0m\u001b[0;34m)\u001b[0m\u001b[0;34m\u001b[0m\u001b[0m\n\u001b[0m\u001b[1;32m     10\u001b[0m     \u001b[0moscar_repos\u001b[0m\u001b[0;34m[\u001b[0m\u001b[0me\u001b[0m\u001b[0;34m]\u001b[0m \u001b[0;34m=\u001b[0m \u001b[0;34m{\u001b[0m \u001b[0mr\u001b[0m\u001b[0;34m[\u001b[0m\u001b[0;34m\"package\"\u001b[0m\u001b[0;34m]\u001b[0m \u001b[0;32mfor\u001b[0m \u001b[0mr\u001b[0m \u001b[0;32min\u001b[0m \u001b[0mlocal_oscar_found_repos\u001b[0m\u001b[0;34m.\u001b[0m\u001b[0mdictreader\u001b[0m\u001b[0;34m(\u001b[0m\u001b[0;34m)\u001b[0m \u001b[0;34m}\u001b[0m\u001b[0;34m\u001b[0m\u001b[0m\n\u001b[1;32m     11\u001b[0m     print(\"    Libraries.io has \", len(repos_per_ecosystem[e]), \n",
      "\u001b[0;32m<ipython-input-104-2051a82fd980>\u001b[0m in \u001b[0;36mchecksum\u001b[0;34m(self)\u001b[0m\n\u001b[1;32m     17\u001b[0m         \u001b[0;32mreturn\u001b[0m\u001b[0;34m(\u001b[0m\u001b[0mparse\u001b[0m\u001b[0;34m(\u001b[0m\u001b[0mr\u001b[0m\u001b[0;34m.\u001b[0m\u001b[0mstdout\u001b[0m\u001b[0;34m.\u001b[0m\u001b[0mstrip\u001b[0m\u001b[0;34m(\u001b[0m\u001b[0;34m)\u001b[0m\u001b[0;34m)\u001b[0m\u001b[0;34m)\u001b[0m\u001b[0;34m\u001b[0m\u001b[0m\n\u001b[1;32m     18\u001b[0m     \u001b[0;32mdef\u001b[0m \u001b[0mchecksum\u001b[0m\u001b[0;34m(\u001b[0m\u001b[0mself\u001b[0m\u001b[0;34m)\u001b[0m\u001b[0;34m:\u001b[0m\u001b[0;34m\u001b[0m\u001b[0m\n\u001b[0;32m---> 19\u001b[0;31m         \u001b[0mr\u001b[0m \u001b[0;34m=\u001b[0m \u001b[0mself\u001b[0m\u001b[0;34m.\u001b[0m\u001b[0mmachine\u001b[0m\u001b[0;34m.\u001b[0m\u001b[0mrun\u001b[0m\u001b[0;34m(\u001b[0m\u001b[0;34m\"sum \"\u001b[0m \u001b[0;34m+\u001b[0m \u001b[0mself\u001b[0m\u001b[0;34m.\u001b[0m\u001b[0mpath\u001b[0m\u001b[0;34m,\u001b[0m \u001b[0mhide\u001b[0m\u001b[0;34m=\u001b[0m\u001b[0;32mTrue\u001b[0m \u001b[0;34m)\u001b[0m\u001b[0;34m\u001b[0m\u001b[0m\n\u001b[0m\u001b[1;32m     20\u001b[0m         \u001b[0;32mreturn\u001b[0m\u001b[0;34m(\u001b[0m\u001b[0mr\u001b[0m\u001b[0;34m.\u001b[0m\u001b[0mstdout\u001b[0m\u001b[0;34m.\u001b[0m\u001b[0msplit\u001b[0m\u001b[0;34m(\u001b[0m\u001b[0;34m\" \"\u001b[0m\u001b[0;34m)\u001b[0m\u001b[0;34m[\u001b[0m\u001b[0;36m0\u001b[0m\u001b[0;34m]\u001b[0m\u001b[0;34m.\u001b[0m\u001b[0mstrip\u001b[0m\u001b[0;34m(\u001b[0m\u001b[0;34m)\u001b[0m\u001b[0;34m)\u001b[0m\u001b[0;34m\u001b[0m\u001b[0m\n\u001b[1;32m     21\u001b[0m \u001b[0;34m\u001b[0m\u001b[0m\n",
      "\u001b[0;32m<decorator-gen-3>\u001b[0m in \u001b[0;36mrun\u001b[0;34m(self, command, **kwargs)\u001b[0m\n",
      "\u001b[0;32m/usr/local/lib/python3.7/site-packages/fabric/connection.py\u001b[0m in \u001b[0;36mopens\u001b[0;34m(method, self, *args, **kwargs)\u001b[0m\n\u001b[1;32m     28\u001b[0m \u001b[0;32mdef\u001b[0m \u001b[0mopens\u001b[0m\u001b[0;34m(\u001b[0m\u001b[0mmethod\u001b[0m\u001b[0;34m,\u001b[0m \u001b[0mself\u001b[0m\u001b[0;34m,\u001b[0m \u001b[0;34m*\u001b[0m\u001b[0margs\u001b[0m\u001b[0;34m,\u001b[0m \u001b[0;34m**\u001b[0m\u001b[0mkwargs\u001b[0m\u001b[0;34m)\u001b[0m\u001b[0;34m:\u001b[0m\u001b[0;34m\u001b[0m\u001b[0m\n\u001b[1;32m     29\u001b[0m     \u001b[0mself\u001b[0m\u001b[0;34m.\u001b[0m\u001b[0mopen\u001b[0m\u001b[0;34m(\u001b[0m\u001b[0;34m)\u001b[0m\u001b[0;34m\u001b[0m\u001b[0m\n\u001b[0;32m---> 30\u001b[0;31m     \u001b[0;32mreturn\u001b[0m \u001b[0mmethod\u001b[0m\u001b[0;34m(\u001b[0m\u001b[0mself\u001b[0m\u001b[0;34m,\u001b[0m \u001b[0;34m*\u001b[0m\u001b[0margs\u001b[0m\u001b[0;34m,\u001b[0m \u001b[0;34m**\u001b[0m\u001b[0mkwargs\u001b[0m\u001b[0;34m)\u001b[0m\u001b[0;34m\u001b[0m\u001b[0m\n\u001b[0m\u001b[1;32m     31\u001b[0m \u001b[0;34m\u001b[0m\u001b[0m\n\u001b[1;32m     32\u001b[0m \u001b[0;34m\u001b[0m\u001b[0m\n",
      "\u001b[0;32m/usr/local/lib/python3.7/site-packages/fabric/connection.py\u001b[0m in \u001b[0;36mrun\u001b[0;34m(self, command, **kwargs)\u001b[0m\n\u001b[1;32m    583\u001b[0m         \"\"\"\n\u001b[1;32m    584\u001b[0m         \u001b[0mrunner\u001b[0m \u001b[0;34m=\u001b[0m \u001b[0mself\u001b[0m\u001b[0;34m.\u001b[0m\u001b[0mconfig\u001b[0m\u001b[0;34m.\u001b[0m\u001b[0mrunners\u001b[0m\u001b[0;34m.\u001b[0m\u001b[0mremote\u001b[0m\u001b[0;34m(\u001b[0m\u001b[0mself\u001b[0m\u001b[0;34m)\u001b[0m\u001b[0;34m\u001b[0m\u001b[0m\n\u001b[0;32m--> 585\u001b[0;31m         \u001b[0;32mreturn\u001b[0m \u001b[0mself\u001b[0m\u001b[0;34m.\u001b[0m\u001b[0m_run\u001b[0m\u001b[0;34m(\u001b[0m\u001b[0mrunner\u001b[0m\u001b[0;34m,\u001b[0m \u001b[0mcommand\u001b[0m\u001b[0;34m,\u001b[0m \u001b[0;34m**\u001b[0m\u001b[0mkwargs\u001b[0m\u001b[0;34m)\u001b[0m\u001b[0;34m\u001b[0m\u001b[0m\n\u001b[0m\u001b[1;32m    586\u001b[0m \u001b[0;34m\u001b[0m\u001b[0m\n\u001b[1;32m    587\u001b[0m     \u001b[0;34m@\u001b[0m\u001b[0mopens\u001b[0m\u001b[0;34m\u001b[0m\u001b[0m\n",
      "\u001b[0;32m/usr/local/lib/python3.7/site-packages/invoke/context.py\u001b[0m in \u001b[0;36m_run\u001b[0;34m(self, runner, command, **kwargs)\u001b[0m\n\u001b[1;32m     99\u001b[0m     \u001b[0;32mdef\u001b[0m \u001b[0m_run\u001b[0m\u001b[0;34m(\u001b[0m\u001b[0mself\u001b[0m\u001b[0;34m,\u001b[0m \u001b[0mrunner\u001b[0m\u001b[0;34m,\u001b[0m \u001b[0mcommand\u001b[0m\u001b[0;34m,\u001b[0m \u001b[0;34m**\u001b[0m\u001b[0mkwargs\u001b[0m\u001b[0;34m)\u001b[0m\u001b[0;34m:\u001b[0m\u001b[0;34m\u001b[0m\u001b[0m\n\u001b[1;32m    100\u001b[0m         \u001b[0mcommand\u001b[0m \u001b[0;34m=\u001b[0m \u001b[0mself\u001b[0m\u001b[0;34m.\u001b[0m\u001b[0m_prefix_commands\u001b[0m\u001b[0;34m(\u001b[0m\u001b[0mcommand\u001b[0m\u001b[0;34m)\u001b[0m\u001b[0;34m\u001b[0m\u001b[0m\n\u001b[0;32m--> 101\u001b[0;31m         \u001b[0;32mreturn\u001b[0m \u001b[0mrunner\u001b[0m\u001b[0;34m.\u001b[0m\u001b[0mrun\u001b[0m\u001b[0;34m(\u001b[0m\u001b[0mcommand\u001b[0m\u001b[0;34m,\u001b[0m \u001b[0;34m**\u001b[0m\u001b[0mkwargs\u001b[0m\u001b[0;34m)\u001b[0m\u001b[0;34m\u001b[0m\u001b[0m\n\u001b[0m\u001b[1;32m    102\u001b[0m \u001b[0;34m\u001b[0m\u001b[0m\n\u001b[1;32m    103\u001b[0m     \u001b[0;32mdef\u001b[0m \u001b[0msudo\u001b[0m\u001b[0;34m(\u001b[0m\u001b[0mself\u001b[0m\u001b[0;34m,\u001b[0m \u001b[0mcommand\u001b[0m\u001b[0;34m,\u001b[0m \u001b[0;34m**\u001b[0m\u001b[0mkwargs\u001b[0m\u001b[0;34m)\u001b[0m\u001b[0;34m:\u001b[0m\u001b[0;34m\u001b[0m\u001b[0m\n",
      "\u001b[0;32m/usr/local/lib/python3.7/site-packages/invoke/runners.py\u001b[0m in \u001b[0;36mrun\u001b[0;34m(self, command, **kwargs)\u001b[0m\n\u001b[1;32m    269\u001b[0m         \"\"\"\n\u001b[1;32m    270\u001b[0m         \u001b[0;32mtry\u001b[0m\u001b[0;34m:\u001b[0m\u001b[0;34m\u001b[0m\u001b[0m\n\u001b[0;32m--> 271\u001b[0;31m             \u001b[0;32mreturn\u001b[0m \u001b[0mself\u001b[0m\u001b[0;34m.\u001b[0m\u001b[0m_run_body\u001b[0m\u001b[0;34m(\u001b[0m\u001b[0mcommand\u001b[0m\u001b[0;34m,\u001b[0m \u001b[0;34m**\u001b[0m\u001b[0mkwargs\u001b[0m\u001b[0;34m)\u001b[0m\u001b[0;34m\u001b[0m\u001b[0m\n\u001b[0m\u001b[1;32m    272\u001b[0m         \u001b[0;32mfinally\u001b[0m\u001b[0;34m:\u001b[0m\u001b[0;34m\u001b[0m\u001b[0m\n\u001b[1;32m    273\u001b[0m             \u001b[0mself\u001b[0m\u001b[0;34m.\u001b[0m\u001b[0mstop\u001b[0m\u001b[0;34m(\u001b[0m\u001b[0;34m)\u001b[0m\u001b[0;34m\u001b[0m\u001b[0m\n",
      "\u001b[0;32m/usr/local/lib/python3.7/site-packages/invoke/runners.py\u001b[0m in \u001b[0;36m_run_body\u001b[0;34m(self, command, **kwargs)\u001b[0m\n\u001b[1;32m    402\u001b[0m             \u001b[0;32mraise\u001b[0m \u001b[0mFailure\u001b[0m\u001b[0;34m(\u001b[0m\u001b[0mresult\u001b[0m\u001b[0;34m,\u001b[0m \u001b[0mreason\u001b[0m\u001b[0;34m=\u001b[0m\u001b[0mwatcher_errors\u001b[0m\u001b[0;34m[\u001b[0m\u001b[0;36m0\u001b[0m\u001b[0;34m]\u001b[0m\u001b[0;34m)\u001b[0m\u001b[0;34m\u001b[0m\u001b[0m\n\u001b[1;32m    403\u001b[0m         \u001b[0;32mif\u001b[0m \u001b[0;32mnot\u001b[0m \u001b[0;34m(\u001b[0m\u001b[0mresult\u001b[0m \u001b[0;32mor\u001b[0m \u001b[0mopts\u001b[0m\u001b[0;34m[\u001b[0m\u001b[0;34m\"warn\"\u001b[0m\u001b[0;34m]\u001b[0m\u001b[0;34m)\u001b[0m\u001b[0;34m:\u001b[0m\u001b[0;34m\u001b[0m\u001b[0m\n\u001b[0;32m--> 404\u001b[0;31m             \u001b[0;32mraise\u001b[0m \u001b[0mUnexpectedExit\u001b[0m\u001b[0;34m(\u001b[0m\u001b[0mresult\u001b[0m\u001b[0;34m)\u001b[0m\u001b[0;34m\u001b[0m\u001b[0m\n\u001b[0m\u001b[1;32m    405\u001b[0m         \u001b[0;32mreturn\u001b[0m \u001b[0mresult\u001b[0m\u001b[0;34m\u001b[0m\u001b[0m\n\u001b[1;32m    406\u001b[0m \u001b[0;34m\u001b[0m\u001b[0m\n",
      "\u001b[0;31mUnexpectedExit\u001b[0m: Encountered a bad command exit code!\n\nCommand: 'sum /data/play/cbogart/foundpackages.CPAN.csv'\n\nExit code: 1\n\nStdout:\n\n\n\nStderr:\n\nsum: /data/play/cbogart/foundpackages.CPAN.csv: No such file or directory\n\n"
     ]
    }
   ],
   "source": [
    "ecosystems = (\"Atom Bioconductor Cargo CocoaPods CPAN CRAN Eclipse Go \" + \\\n",
    "           \"Hackage Hex Lua Maven NPM NuGet Packagist Pypi Rubygems Stackage\").split(\" \")\n",
    "# found oscar packages\n",
    "oscar_repos = defaultdict(set) \n",
    "merged_repo_map = dict()   # repo to pacakge\n",
    "for e in ecosystems:\n",
    "    print(\"Ecosystem\",e,\":\")\n",
    "    oscar_found_repos = RemoteFile(oscar,\"/data/play/cbogart/foundpackages.\" + e + \".csv\")\n",
    "    local_oscar_found_repos = LocalFile(\"/Users/bogart-MBP-isri/Dropbox/research/dev-migration/data/common/foundpackages.\" + e + \".csv\")\n",
    "    print(\"    Oscar found repos, local match=\", oscar_found_repos.checksum() == local_oscar_found_repos.checksum())\n",
    "    oscar_repos[e] = { r[\"package\"] for r in local_oscar_found_repos.dictreader() }\n",
    "    print(\"    Libraries.io has \", len(repos_per_ecosystem[e]), \n",
    "          \"unique repos, and\", len(multi_package_repos[e]), \"repos with multiple packages\")\n",
    "    print(\"    OSCAR found \", len(oscar_repos[e]), \"repos\")\n",
    "    overlap = oscar_repos[e].intersection(repos_per_ecosystem[e].keys())\n",
    "    print(\"    The overlap is\", len(overlap))\n",
    "    merged_repo_map[e] = {p:repos_per_ecosystem[e][p] for p in overlap }\n",
    "                                                                                                                                             "
   ]
  },
  {
   "cell_type": "code",
   "execution_count": 116,
   "metadata": {},
   "outputs": [
    {
     "name": "stdout",
     "output_type": "stream",
     "text": [
      "defaultdict(<class 'int'>, {'Packagist': 191926, 'NPM': 510393, 'Cargo': 12490, 'NuGet': 53324, 'Rubygems': 105434, 'Pypi': 80966, 'Go': 748775, 'CocoaPods': 39453, 'Hex': 5737, 'CPAN': 10313, 'Maven': 61477, 'Hackage': 7941, 'Atom': 10615, 'CRAN': 3529})\n",
      "Atom 8788\n",
      "Bioconductor 0\n",
      "Cargo 8118\n",
      "CocoaPods 31756\n"
     ]
    }
   ],
   "source": [
    "orig_repo_ecosystems = local_orig_repo_map.countdistinct(\"ecosystem\")\n",
    "print(orig_repo_ecosystems)\n",
    "for e in merged_repo_map: print(e,len(merged_repo_map[e]))\n"
   ]
  },
  {
   "cell_type": "code",
   "execution_count": 93,
   "metadata": {},
   "outputs": [],
   "source": [
    "# Author-level information"
   ]
  },
  {
   "cell_type": "code",
   "execution_count": null,
   "metadata": {},
   "outputs": [],
   "source": [
    "#author,eco,package,epoch,tz,core,files\n",
    "#larrybrid <jcameronfulton@gmail.com>,Pypi,LarryBrid_python-mailerlite,1441576273,-0400,1,\n",
    "packages = dict()\n",
    "for e in ecosystems:\n",
    "    authact = RemoteFile\n",
    "    packages[e] = \n"
   ]
  },
  {
   "cell_type": "markdown",
   "metadata": {},
   "source": [
    "# Ecosystem-wide practices\n",
    "\n",
    "* Counts of major practices by year by ecosystem as distilled directly from libraries.io\n",
    "* Gathered by 10a_lib_project_practices-db.py\n",
    "* file is releases.csv"
   ]
  },
  {
   "cell_type": "code",
   "execution_count": 98,
   "metadata": {},
   "outputs": [
    {
     "name": "stdout",
     "output_type": "stream",
     "text": [
      "Counts of release practices by ecosystem from libraries.io\n",
      "   latest script updated  2018-07-23 16:41:51.916120-04:00\n",
      "   latest file output updated  2018-07-23 16:44:44.300282-04:00\n",
      "   local file output updated  2018-07-23 20:46:39\n",
      "   local file checksum comparison  True\n"
     ]
    }
   ],
   "source": [
    "\n",
    "lio_raw_versions = RemoteFile(erebor,\"/usr2/scratch/libraries.io/raw/versions-1.0.0-2017-06-15.csv\")\n",
    "eco_yrly_prax_lio = RemoteFile(erebor,\"/usr2/scratch/cbogart/dev-migration/data/libraries/releases.csv\")\n",
    "get_eco_yrly_prax_lio = RemoteFile(erebor,\"/usr2/scratch/cbogart/dev-migration/scripts/10a_lib_project-practices-db.py\")\n",
    "local_eco_yrly_prax_lio = LocalFile(\"../data/laptop/releases.csv\")\n",
    "print(\"Counts of release practices by ecosystem from libraries.io\")\n",
    "print(\"   latest script updated \", get_eco_yrly_prax_lio.age())\n",
    "print(\"   latest file output updated \", eco_yrly_prax_lio.age())\n",
    "print(\"   local file output updated \", local_eco_yrly_prax_lio.age())\n",
    "print(\"   local file checksum comparison \", eco_yrly_prax_lio.checksum() == local_eco_yrly_prax_lio.checksum())\n"
   ]
  },
  {
   "cell_type": "markdown",
   "metadata": {},
   "source": [
    "# Package-level practice data from libraries.io\n"
   ]
  },
  {
   "cell_type": "code",
   "execution_count": null,
   "metadata": {},
   "outputs": [],
   "source": [
    "#../data/laptop/pkg_releases.csv\n",
    "#../data/laptop/pkg_releases.csv\n",
    "#year,eco,kind,package,count\n",
    "#1970,Rubygems,release,nakilon,1\n"
   ]
  },
  {
   "cell_type": "markdown",
   "metadata": {},
   "source": [
    "# Influence data  package x ecosystem"
   ]
  },
  {
   "cell_type": "code",
   "execution_count": null,
   "metadata": {},
   "outputs": [],
   "source": [
    "#\"../data/laptop/infl/infl_pkg_\" "
   ]
  },
  {
   "cell_type": "markdown",
   "metadata": {},
   "source": [
    "# Author-level and package-level summaries from Oscar"
   ]
  },
  {
   "cell_type": "code",
   "execution_count": null,
   "metadata": {},
   "outputs": [],
   "source": [
    "for e in ecosystem:\n",
    "    author_prax = RemoteFile(oscar,\"/data/play/authBehavior.\" + e + \".csv.gz\")\n",
    "    local_author_prax = LocalFile(\"../data/laptop/authBehavior.\" + e + \".csv.gz\")\n",
    "    local_repo_prax = LocalFile(\"../data/laptop/projectBehavior.\" + e + \".csv.gz\")\n",
    "    \n"
   ]
  }
 ],
 "metadata": {
  "kernelspec": {
   "display_name": "Python 3",
   "language": "python",
   "name": "python3"
  },
  "language_info": {
   "codemirror_mode": {
    "name": "ipython",
    "version": 3
   },
   "file_extension": ".py",
   "mimetype": "text/x-python",
   "name": "python",
   "nbconvert_exporter": "python",
   "pygments_lexer": "ipython3",
   "version": "3.7.0"
  }
 },
 "nbformat": 4,
 "nbformat_minor": 2
}
