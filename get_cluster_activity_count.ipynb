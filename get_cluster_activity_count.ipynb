{
 "cells": [
  {
   "cell_type": "code",
   "execution_count": 1,
   "metadata": {},
   "outputs": [
    {
     "data": {
      "text/plain": [
       "131072"
      ]
     },
     "execution_count": 1,
     "metadata": {},
     "output_type": "execute_result"
    }
   ],
   "source": [
    "from pymongo import MongoClient\n",
    "import os\n",
    "import sys\n",
    "import csv\n",
    "import glob\n",
    "import calendar\n",
    "import cPickle as pickle\n",
    "import pandas as pd\n",
    "from collections import defaultdict\n",
    "from datetime import datetime\n",
    "import re\n",
    "import numpy as np\n",
    "from dateutil import relativedelta\n",
    "import plotly\n",
    "import plotly.graph_objs as go\n",
    "\n",
    "csv.field_size_limit(sys.maxsize)"
   ]
  },
  {
   "cell_type": "code",
   "execution_count": 33,
   "metadata": {},
   "outputs": [],
   "source": [
    "activity_dir = '/usr2/scratch/sschoudh/kdd_v6/congruence/cluster_issues/cluster_activities/random_assignment/'\n",
    "filename = 'ansible~ansible_kmeans_7_random.pickle'\n",
    "label_dict = pickle.load(open(os.path.join(activity_dir, filename), 'rb'))\n",
    "rev_dict = {}\n",
    "for actor,cluster in label_dict.iteritems():\n",
    "    if cluster not in rev_dict:\n",
    "        rev_dict[cluster] = set()\n",
    "    rev_dict[cluster].add(actor)"
   ]
  },
  {
   "cell_type": "code",
   "execution_count": 40,
   "metadata": {},
   "outputs": [
    {
     "data": {
      "text/plain": [
       "5"
      ]
     },
     "execution_count": 40,
     "metadata": {},
     "output_type": "execute_result"
    }
   ],
   "source": [
    "label_dict['abadger']"
   ]
  },
  {
   "cell_type": "code",
   "execution_count": 3,
   "metadata": {},
   "outputs": [
    {
     "name": "stdout",
     "output_type": "stream",
     "text": [
      "Processing for file =  ros~rosdistro_kmeans_5_random.pickle\n"
     ]
    }
   ],
   "source": [
    "activity_dir = '/usr2/scratch/sschoudh/kdd_v6/congruence/cluster_issues/cluster_activities/random_assignment/temp/'\n",
    "client = MongoClient(\"mongodb://127.0.0.1:27017\")\n",
    "project_events = client[\"pypi-v6\"].project_events\n",
    "issue_events = client[\"pypi-v6\"].issue_events\n",
    "burst_dict_pickle = '/usr2/scratch/sschoudh/kdd_v6/HMM/results/correct/hmm_v6_daily_bursts_correct_filtered_states.pickle'\n",
    "burst_dict = pickle.load(open(burst_dict_pickle, 'rb'))\n",
    "\n",
    "def ConvertToDate(str_time, str_format):\n",
    "    return datetime.strptime(str_time, str_format).date()\n",
    "\n",
    "for filename in os.listdir(activity_dir):\n",
    "    if '.pickle' not in filename:\n",
    "        continue\n",
    "    print \"Processing for file = \", filename\n",
    "    label_dict = pickle.load(open(os.path.join(activity_dir, filename), 'rb'))\n",
    "    parts = filename.split('_kmeans_')\n",
    "    project = parts[0]\n",
    "    num_clusters = int(parts[1].strip('_random.pickle').strip())\n",
    "    project_owner = project.split('~')[0].strip()\n",
    "    project_name = project.split('~')[1].strip()\n",
    "    rev_dict = {}\n",
    "    other_dict = {}\n",
    "    for actor,cluster in label_dict.iteritems():\n",
    "        if cluster not in rev_dict:\n",
    "            rev_dict[cluster] = set()\n",
    "        rev_dict[cluster].add(actor)\n",
    "\n",
    "    for cluster, actor_set in rev_dict.iteritems():\n",
    "        actor_set = list(actor_set)\n",
    "        match_list = [re.compile('^' + re.escape(str(x)) + '$', re.IGNORECASE) for x in actor_set]\n",
    "        ievents = issue_events.find({\"project_owner\": re.compile(project_owner, re.IGNORECASE),\n",
    "                                     \"project_name\": re.compile(project_name, re.IGNORECASE), \n",
    "                                     \"actor\": {\"$in\" : match_list }})\n",
    "        pevents = project_events.find({\"project_owner\": re.compile(project_owner, re.IGNORECASE),\n",
    "                                     \"project_name\": re.compile(project_name, re.IGNORECASE), \n",
    "                                     \"actor\": {\"$in\" : match_list }})\n",
    "        for irow in ievents:\n",
    "            t = irow[\"time\"].date()\n",
    "            if t not in other_dict:\n",
    "                other_dict[t] = defaultdict(int)\n",
    "            other_dict[t][cluster] += 1\n",
    "        for prow in pevents:\n",
    "            t = prow[\"time\"].date()\n",
    "            if t not in other_dict:\n",
    "                other_dict[t] = defaultdict(int)\n",
    "            other_dict[t][cluster] += 1\n",
    "        \n",
    "        #Plot with boundaries\n",
    "        project = project_owner + '~' + project_name\n",
    "        project_bursts = burst_dict[project]\n",
    "        boundaries = set()\n",
    "        for cur_burst in project_bursts:\n",
    "            parts = cur_burst.split(\"-\")\n",
    "            start = ConvertToDate(parts[0], '%Y/%m/%d')\n",
    "            end = ConvertToDate(parts[1], '%Y/%m/%d')\n",
    "            boundaries.add(start)\n",
    "            boundaries.add(end)\n",
    "\n",
    "        days = other_dict.keys()\n",
    "        days = sorted(days)\n",
    "        data = []\n",
    "        prefix = \"cluster_\"\n",
    "        cur = days[0]\n",
    "        end = days[-1]\n",
    "        series = []\n",
    "        while cur <= end:\n",
    "            series.append(cur)\n",
    "            cur += relativedelta.relativedelta(days=1)\n",
    "\n",
    "        maxval = 0\n",
    "        for cluster in range(num_clusters):\n",
    "            vals = []\n",
    "            for day in series:\n",
    "                if day in days:\n",
    "                    vals.append(other_dict[day][cluster])\n",
    "                    maxval = max(maxval, other_dict[day][cluster])\n",
    "                else:\n",
    "                    vals.append(0)\n",
    "            legend = prefix + str(cluster)\n",
    "            #print len(vals)\n",
    "            data.append(go.Bar(x=series, y=vals, name=legend))\n",
    "\n",
    "        # Add burst boundaries to data\n",
    "        vals = []\n",
    "        for day in series:\n",
    "            if day in boundaries:\n",
    "                vals.append(maxval+5)\n",
    "            else:\n",
    "                vals.append(0)\n",
    "        legend = 'burst_boundaries'\n",
    "        data.append(go.Scatter(x=series, y=vals, name=legend, line = dict(\n",
    "                width = 0.7,\n",
    "                dash = 'dot')))\n",
    "        out_name = filename.replace('.pickle', '_random_with_boundaries.html')\n",
    "        out_file = '/usr2/scratch/sschoudh/kdd_v6/congruence/cluster_issues/cluster_activities/' + out_name\n",
    "        layout = go.Layout(barmode='stack')\n",
    "        plotly.offline.plot({\"data\": data, \"layout\": layout},\n",
    "                        filename=out_file, auto_open=False)\n"
   ]
  },
  {
   "cell_type": "code",
   "execution_count": 14,
   "metadata": {},
   "outputs": [],
   "source": [
    "client = MongoClient(\"mongodb://127.0.0.1:27017\")\n",
    "project_events = client[\"pypi-v6\"].project_events\n",
    "issue_events = client[\"pypi-v6\"].issue_events\n",
    "cluster_label_pickle = '/usr2/scratch/sschoudh/kdd_v6/congruence/cluster_issues/cluster_activities/bokeh~bokeh_kmeans_4.pickle'\n",
    "label_dict = pickle.load(open(cluster_label_pickle, 'rb'))\n",
    "project_name = 'bokeh'\n",
    "project_owner = 'bokeh'\n",
    "rev_dict = {}\n",
    "other_dict = {}\n",
    "for actor,cluster in label_dict.iteritems():\n",
    "    if cluster not in rev_dict:\n",
    "        rev_dict[cluster] = set()\n",
    "    rev_dict[cluster].add(actor)\n",
    "\n",
    "for cluster, actor_set in rev_dict.iteritems():\n",
    "    actor_set = list(actor_set)\n",
    "    match_list = [re.compile('^' + re.escape(str(x)) + '$', re.IGNORECASE) for x in actor_set]\n",
    "    ievents = issue_events.find({\"project_owner\": re.compile(project_owner, re.IGNORECASE),\n",
    "                                 \"project_name\": re.compile(project_name, re.IGNORECASE), \n",
    "                                 \"actor\": {\"$in\" : match_list }})\n",
    "    pevents = project_events.find({\"project_owner\": re.compile(project_owner, re.IGNORECASE),\n",
    "                                 \"project_name\": re.compile(project_name, re.IGNORECASE), \n",
    "                                 \"actor\": {\"$in\" : match_list }})\n",
    "#     print \"issue events = \", ievents.count()\n",
    "#     print \"project events = \", pevents.count()\n",
    "    for irow in ievents:\n",
    "        t = irow[\"time\"].date()\n",
    "        if t not in other_dict:\n",
    "            other_dict[t] = defaultdict(int)\n",
    "        other_dict[t][cluster] += 1\n",
    "    for prow in pevents:\n",
    "        t = prow[\"time\"].date()\n",
    "        if t not in other_dict:\n",
    "            other_dict[t] = defaultdict(int)\n",
    "        other_dict[t][cluster] += 1\n",
    "        "
   ]
  },
  {
   "cell_type": "code",
   "execution_count": 5,
   "metadata": {},
   "outputs": [
    {
     "data": {
      "text/plain": [
       "'/usr2/scratch/sschoudh/kdd_v6/congruence/cluster_issues/cluster_activities/ansible~ansible_kmeans_12.pickle'"
      ]
     },
     "execution_count": 5,
     "metadata": {},
     "output_type": "execute_result"
    }
   ],
   "source": [
    "cluster_label_pickle"
   ]
  },
  {
   "cell_type": "code",
   "execution_count": 17,
   "metadata": {},
   "outputs": [
    {
     "data": {
      "text/plain": [
       "'file:///usr2/scratch/sschoudh/kdd_v6/congruence/cluster_issues/cluster_activities/bokeh~bokeh_kmeans_4.html'"
      ]
     },
     "execution_count": 17,
     "metadata": {},
     "output_type": "execute_result"
    }
   ],
   "source": [
    "from dateutil import relativedelta\n",
    "from datetime import datetime\n",
    "import plotly\n",
    "import plotly.graph_objs as go\n",
    "\n",
    "days = other_dict.keys()\n",
    "days = sorted(days)\n",
    "num_clusters = 4\n",
    "data = []\n",
    "prefix = \"cluster_\"\n",
    "cur = days[0]\n",
    "end = days[-1]\n",
    "series = []\n",
    "while cur <= end:\n",
    "    series.append(cur)\n",
    "    cur += relativedelta.relativedelta(days=1)\n",
    "\n",
    "for cluster in range(num_clusters):\n",
    "    vals = []\n",
    "    for day in series:\n",
    "        if day in days:\n",
    "            vals.append(other_dict[day][cluster])\n",
    "        else:\n",
    "            vals.append(0)\n",
    "    legend = prefix + str(cluster)\n",
    "    #print len(vals)\n",
    "    data.append(go.Bar(x=series, y=vals, name=legend))\n",
    "\n",
    "out_file = '/usr2/scratch/sschoudh/kdd_v6/congruence/cluster_issues/cluster_activities/bokeh~bokeh_kmeans_4.html'\n",
    "layout = go.Layout(barmode='stack')\n",
    "plotly.offline.plot({\"data\": data, \"layout\": layout},\n",
    "                filename=out_file, auto_open=False)\n"
   ]
  },
  {
   "cell_type": "code",
   "execution_count": 26,
   "metadata": {},
   "outputs": [
    {
     "data": {
      "text/plain": [
       "'file:///usr2/scratch/sschoudh/kdd_v6/congruence/cluster_issues/cluster_activities/bokeh~bokeh_kmeans_4_boundaries.html'"
      ]
     },
     "execution_count": 26,
     "metadata": {},
     "output_type": "execute_result"
    }
   ],
   "source": [
    "'''\n",
    "Plot everything with the segment boundaries\n",
    "'''\n",
    "\n",
    "from dateutil import relativedelta\n",
    "from datetime import datetime\n",
    "import plotly\n",
    "import plotly.graph_objs as go\n",
    "\n",
    "def ConvertToDate(str_time, str_format):\n",
    "    return datetime.strptime(str_time, str_format).date()\n",
    "\n",
    "burst_dict_pickle = '/usr2/scratch/sschoudh/kdd_v6/HMM/results/correct/hmm_v6_daily_bursts_correct_filtered_states.pickle'\n",
    "burst_dict = pickle.load(open(burst_dict_pickle, 'rb'))\n",
    "\n",
    "project = 'bokeh~bokeh'\n",
    "project_bursts = burst_dict[project]\n",
    "boundaries = set()\n",
    "for cur_burst in project_bursts:\n",
    "    parts = cur_burst.split(\"-\")\n",
    "    start = ConvertToDate(parts[0], '%Y/%m/%d')\n",
    "    end = ConvertToDate(parts[1], '%Y/%m/%d')\n",
    "    boundaries.add(start)\n",
    "    boundaries.add(end)\n",
    "        \n",
    "days = other_dict.keys()\n",
    "days = sorted(days)\n",
    "num_clusters = 4\n",
    "data = []\n",
    "prefix = \"cluster_\"\n",
    "cur = days[0]\n",
    "end = days[-1]\n",
    "series = []\n",
    "while cur <= end:\n",
    "    series.append(cur)\n",
    "    cur += relativedelta.relativedelta(days=1)\n",
    "\n",
    "maxval = 0\n",
    "for cluster in range(num_clusters):\n",
    "    vals = []\n",
    "    for day in series:\n",
    "        if day in days:\n",
    "            vals.append(other_dict[day][cluster])\n",
    "            maxval = max(maxval, other_dict[day][cluster])\n",
    "        else:\n",
    "            vals.append(0)\n",
    "    legend = prefix + str(cluster)\n",
    "    #print len(vals)\n",
    "    data.append(go.Bar(x=series, y=vals, name=legend))\n",
    "\n",
    "# Add burst boundaries to data\n",
    "vals = []\n",
    "for day in series:\n",
    "    if day in boundaries:\n",
    "        vals.append(maxval+5)\n",
    "    else:\n",
    "        vals.append(0)\n",
    "legend = 'burst_boundaries'\n",
    "data.append(go.Scatter(x=series, y=vals, name=legend, line = dict(\n",
    "        width = 0.7,\n",
    "        dash = 'dot')))\n",
    "\n",
    "out_file = '/usr2/scratch/sschoudh/kdd_v6/congruence/cluster_issues/cluster_activities/bokeh~bokeh_kmeans_4_boundaries.html'\n",
    "layout = go.Layout(barmode='stack')\n",
    "plotly.offline.plot({\"data\": data, \"layout\": layout},\n",
    "                filename=out_file, auto_open=False)"
   ]
  },
  {
   "cell_type": "markdown",
   "metadata": {},
   "source": [
    "## "
   ]
  }
 ],
 "metadata": {
  "kernelspec": {
   "display_name": "Python 2",
   "language": "python",
   "name": "python2"
  },
  "language_info": {
   "codemirror_mode": {
    "name": "ipython",
    "version": 2
   },
   "file_extension": ".py",
   "mimetype": "text/x-python",
   "name": "python",
   "nbconvert_exporter": "python",
   "pygments_lexer": "ipython2",
   "version": "2.7.15"
  }
 },
 "nbformat": 4,
 "nbformat_minor": 2
}
